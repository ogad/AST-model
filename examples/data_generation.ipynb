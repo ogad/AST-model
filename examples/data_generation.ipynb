{
 "cells": [
  {
   "cell_type": "code",
   "execution_count": 2,
   "metadata": {},
   "outputs": [
    {
     "ename": "ModuleNotFoundError",
     "evalue": "No module named 'ast_model'",
     "output_type": "error",
     "traceback": [
      "\u001b[0;31m---------------------------------------------------------------------------\u001b[0m",
      "\u001b[0;31mModuleNotFoundError\u001b[0m                       Traceback (most recent call last)",
      "Cell \u001b[0;32mIn[2], line 11\u001b[0m\n\u001b[1;32m      8\u001b[0m \u001b[39mfrom\u001b[39;00m \u001b[39mtqdm\u001b[39;00m\u001b[39m.\u001b[39;00m\u001b[39mautonotebook\u001b[39;00m \u001b[39mimport\u001b[39;00m tqdm\n\u001b[1;32m     10\u001b[0m \u001b[39mfrom\u001b[39;00m \u001b[39moap_model\u001b[39;00m\u001b[39m.\u001b[39;00m\u001b[39mintensity\u001b[39;00m \u001b[39mimport\u001b[39;00m plot_outline\n\u001b[0;32m---> 11\u001b[0m \u001b[39mfrom\u001b[39;00m \u001b[39moap_model\u001b[39;00m\u001b[39m.\u001b[39;00m\u001b[39mpsd\u001b[39;00m \u001b[39mimport\u001b[39;00m GammaPSD, CompositePSD, CrystalModel\n\u001b[1;32m     12\u001b[0m \u001b[39mfrom\u001b[39;00m \u001b[39moap_model\u001b[39;00m\u001b[39m.\u001b[39;00m\u001b[39mcloud\u001b[39;00m \u001b[39mimport\u001b[39;00m CloudVolume, Detector\n\u001b[1;32m     13\u001b[0m \u001b[39mfrom\u001b[39;00m \u001b[39moap_model\u001b[39;00m\u001b[39m.\u001b[39;00m\u001b[39mdetector\u001b[39;00m \u001b[39mimport\u001b[39;00m Detector\n",
      "File \u001b[0;32m~/Library/CloudStorage/OneDrive-ImperialCollegeLondon/07-TBS/ast-model/oap_model/psd.py:15\u001b[0m\n\u001b[1;32m     12\u001b[0m \u001b[39mfrom\u001b[39;00m \u001b[39mnumpy\u001b[39;00m\u001b[39m.\u001b[39;00m\u001b[39mrandom\u001b[39;00m \u001b[39mimport\u001b[39;00m randint\n\u001b[1;32m     13\u001b[0m \u001b[39mfrom\u001b[39;00m \u001b[39mnumpy\u001b[39;00m\u001b[39m.\u001b[39;00m\u001b[39mtyping\u001b[39;00m \u001b[39mimport\u001b[39;00m ArrayLike\n\u001b[0;32m---> 15\u001b[0m \u001b[39mfrom\u001b[39;00m \u001b[39mast_model\u001b[39;00m \u001b[39mimport\u001b[39;00m ASTModel\n\u001b[1;32m     16\u001b[0m \u001b[39mfrom\u001b[39;00m \u001b[39mdiameters\u001b[39;00m \u001b[39mimport\u001b[39;00m measure_diameters\n\u001b[1;32m     19\u001b[0m Particle \u001b[39m=\u001b[39m namedtuple(\u001b[39m\"\u001b[39m\u001b[39mParticle\u001b[39m\u001b[39m\"\u001b[39m, [\u001b[39m\"\u001b[39m\u001b[39mdiameter\u001b[39m\u001b[39m\"\u001b[39m, \u001b[39m\"\u001b[39m\u001b[39mangle\u001b[39m\u001b[39m\"\u001b[39m, \u001b[39m\"\u001b[39m\u001b[39mmodel\u001b[39m\u001b[39m\"\u001b[39m])\n",
      "\u001b[0;31mModuleNotFoundError\u001b[0m: No module named 'ast_model'"
     ]
    }
   ],
   "source": [
    "# Imports\n",
    "import random\n",
    "import logging\n",
    "\n",
    "\n",
    "import numpy as np\n",
    "import matplotlib.pyplot as plt\n",
    "from tqdm.autonotebook import tqdm\n",
    "\n",
    "from oap_model.intensity import plot_outline\n",
    "from oap_model.psd import GammaPSD, CompositePSD, CrystalModel\n",
    "from oap_model.cloud import CloudVolume, Detector\n",
    "from oap_model.detector import Detector\n",
    "\n",
    "\n",
    "logging.basicConfig(level=logging.INFO)\n",
    "np.random.seed(42)\n",
    "random.seed(42)\n"
   ]
  },
  {
   "cell_type": "code",
   "execution_count": null,
   "metadata": {},
   "outputs": [],
   "source": [
    "# Gamma distributions\n",
    "gamma_dist_base = GammaPSD.from_concentration(8000, 8.31e4, 7.86)\n",
    "gamma_dist = GammaPSD.from_concentration(8, 8.31e4, 7.86)\n",
    "\n",
    "gammas = {\n",
    "    \"Spheres\": GammaPSD.from_mean_variance(500e6, 25e-6, 10e-6**2),\n",
    "    \"Columns\": GammaPSD.from_mean_variance(200e3, 200e-6, 100e-6**2, model=CrystalModel.RECT_AR5),\n",
    "    \"Flakes\": GammaPSD.from_mean_variance(1e3, 2000e-6, 300e-6**2, model=CrystalModel.ROS_6),\n",
    "}\n",
    "for gamma in gammas.values():\n",
    "    gamma.bins = gammas[\"Flakes\"].bins\n",
    "composite_psd = CompositePSD(list(gammas.values()), bins=gammas[\"Flakes\"].bins)\n",
    "\n",
    "ax = plt.axes()\n",
    "for shape, gamma in gammas.items():\n",
    "    gamma.plot(ax=ax, label=f\"{shape}; {gamma.total_number_density * 1e-3:.0e}/L\")\n",
    "composite_psd.plot(ax=ax,label=\"Composite\")\n",
    "plt.xscale(\"log\")\n",
    "plt.yscale(\"log\")\n",
    "plt.ylim(1e-4, 1e13)\n",
    "plt.legend()\n",
    "plt.tight_layout()\n",
    "plt.show()\n"
   ]
  },
  {
   "cell_type": "code",
   "execution_count": null,
   "metadata": {},
   "outputs": [],
   "source": [
    "\n",
    "cloud = CloudVolume(composite_psd, (0.1,1,0.2))\n"
   ]
  },
  {
   "cell_type": "code",
   "execution_count": null,
   "metadata": {},
   "outputs": [],
   "source": [
    "# import pickle\n",
    "# with open(f\"../data/composite_cloud.pkl\", \"wb\") as f:\n",
    "#         pickle.dump(cloud, f)"
   ]
  },
  {
   "cell_type": "code",
   "execution_count": null,
   "metadata": {},
   "outputs": [],
   "source": [
    "runs = []\n",
    "arms = [0.06, 0.2]\n",
    "\n",
    "for arm_sep in arms:\n",
    "    logging.info(f\"Arm separation: {arm_sep}...\")\n",
    "    detector = Detector(np.array([0.05, 0.5, 0.1-arm_sep/2]), n_pixels=256, pixel_size=10e-6, arm_separation=arm_sep)\n",
    "    run = cloud.take_image(detector, distance=0.01, single_image=True)\n",
    "    runs.append(run)\n",
    "# run.save(f\"../data/{datetime.datetime.now():%Y-%m-%d}_{run.distance}_composite_run.pkl\")"
   ]
  },
  {
   "cell_type": "code",
   "execution_count": null,
   "metadata": {},
   "outputs": [],
   "source": [
    "\n",
    "fig, axs = plt.subplots(1, len(runs), figsize=(10,20))\n",
    "for i, run in enumerate(runs):\n",
    "    plt.axes(axs[i])\n",
    "    run.images[0].plot(ax=axs[i],grayscale_bounds=[0.35,0.5,0.65], colorbar=False)\n",
    "plt.show()"
   ]
  },
  {
   "cell_type": "code",
   "execution_count": null,
   "metadata": {},
   "outputs": [],
   "source": [
    "8* 25e-6**2/(4*detector.wavelength)"
   ]
  },
  {
   "cell_type": "code",
   "execution_count": null,
   "metadata": {},
   "outputs": [],
   "source": []
  }
 ],
 "metadata": {
  "kernelspec": {
   "display_name": "tbs",
   "language": "python",
   "name": "python3"
  },
  "language_info": {
   "codemirror_mode": {
    "name": "ipython",
    "version": 3
   },
   "file_extension": ".py",
   "mimetype": "text/x-python",
   "name": "python",
   "nbconvert_exporter": "python",
   "pygments_lexer": "ipython3",
   "version": "3.11.4"
  },
  "orig_nbformat": 4
 },
 "nbformat": 4,
 "nbformat_minor": 2
}
